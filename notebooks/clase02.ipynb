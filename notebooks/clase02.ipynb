{
 "cells": [
  {
   "cell_type": "code",
   "execution_count": 75,
   "metadata": {},
   "outputs": [],
   "source": [
    "import numpy as np\n",
    "import pandas as pd\n",
    "import gensim\n",
    "from gensim.test.utils import common_texts\n",
    "from gensim.models import Word2Vec\n",
    "from gensim.models.word2vec import LineSentence\n",
    "import urllib.request\n",
    "import shutil\n",
    "import os\n",
    "import random\n",
    "import gensim.downloader\n",
    "from gensim.models.keyedvectors import KeyedVectors\n",
    "from sklearn.manifold import TSNE\n",
    "import matplotlib.pyplot as plt\n",
    "import seaborn as sns"
   ]
  },
  {
   "cell_type": "markdown",
   "metadata": {},
   "source": [
    "# Word embeddings"
   ]
  },
  {
   "cell_type": "markdown",
   "metadata": {},
   "source": [
    "## Listar modelos pre-entrenados disponibles en Gensim"
   ]
  },
  {
   "cell_type": "code",
   "execution_count": 4,
   "metadata": {},
   "outputs": [
    {
     "name": "stdout",
     "output_type": "stream",
     "text": [
      "['fasttext-wiki-news-subwords-300', 'conceptnet-numberbatch-17-06-300', 'word2vec-ruscorpora-300', 'word2vec-google-news-300', 'glove-wiki-gigaword-50', 'glove-wiki-gigaword-100', 'glove-wiki-gigaword-200', 'glove-wiki-gigaword-300', 'glove-twitter-25', 'glove-twitter-50', 'glove-twitter-100', 'glove-twitter-200', '__testing_word2vec-matrix-synopsis']\n"
     ]
    }
   ],
   "source": [
    "print(list(gensim.downloader.info()['models'].keys()))"
   ]
  },
  {
   "cell_type": "code",
   "execution_count": 5,
   "metadata": {},
   "outputs": [
    {
     "name": "stdout",
     "output_type": "stream",
     "text": [
      "[==================================================] 100.0% 104.8/104.8MB downloaded\n"
     ]
    }
   ],
   "source": [
    "# si quisieramos descargar uno, ejecutar la siguiente sentencia\n",
    "#glove_vectors = gensim.downloader.load('glove-twitter-25')"
   ]
  },
  {
   "cell_type": "markdown",
   "metadata": {},
   "source": [
    "## Carga modelo pre-entrenado\n",
    "\n",
    "Usaremos un modelo pre-entrenado en español disponible en el siguiente repositorio: <https://github.com/dccuchile/spanish-word-embeddings>. Para nuestro caso, utilizaremos el ``FastText embeddings from SBWC``"
   ]
  },
  {
   "cell_type": "code",
   "execution_count": 15,
   "metadata": {},
   "outputs": [],
   "source": [
    "wordvectors_file_vec = 'fasttext-sbwc.3.6.e20.vec'"
   ]
  },
  {
   "cell_type": "code",
   "execution_count": 16,
   "metadata": {},
   "outputs": [],
   "source": [
    "# cantidad = 100000 \n",
    "wordvectors = KeyedVectors.load_word2vec_format(wordvectors_file_vec)"
   ]
  },
  {
   "cell_type": "markdown",
   "metadata": {},
   "source": [
    "## Palabras más similares y analogías\n",
    "\n",
    "Los embeddings son capaces de codificar información del contexto de las palabras en vectores, por lo que tenemos disponible ciertas funciones vectoriales para ciertas tareas."
   ]
  },
  {
   "cell_type": "markdown",
   "metadata": {},
   "source": [
    "### Términos más similares"
   ]
  },
  {
   "cell_type": "code",
   "execution_count": 42,
   "metadata": {},
   "outputs": [
    {
     "data": {
      "text/plain": [
       "[('anciano', 0.6532875895500183),\n",
       " ('muchacho', 0.6404476761817932),\n",
       " ('varón', 0.6309205293655396),\n",
       " ('individuo', 0.6268893480300903),\n",
       " ('joven', 0.6027082800865173),\n",
       " ('hombree', 0.6007208824157715),\n",
       " ('mujer', 0.5953878164291382),\n",
       " ('hombres', 0.5853502154350281),\n",
       " ('indigente', 0.5837392210960388),\n",
       " ('jovencito', 0.580890953540802)]"
      ]
     },
     "execution_count": 42,
     "metadata": {},
     "output_type": "execute_result"
    }
   ],
   "source": [
    "wordvectors.most_similar('hombre', topn=10)"
   ]
  },
  {
   "cell_type": "code",
   "execution_count": 43,
   "metadata": {},
   "outputs": [
    {
     "data": {
      "text/plain": [
       "[('niña', 0.6718433499336243),\n",
       " ('mujera', 0.6388276815414429),\n",
       " ('mujeres', 0.6201333403587341),\n",
       " ('hombre', 0.5953877568244934),\n",
       " ('mujers', 0.5783287286758423),\n",
       " ('marido', 0.5680555701255798),\n",
       " ('muchacha', 0.5595178008079529),\n",
       " ('mujerse', 0.5586514472961426),\n",
       " ('mujere', 0.5529941916465759),\n",
       " ('adolescente', 0.5462560653686523)]"
      ]
     },
     "execution_count": 43,
     "metadata": {},
     "output_type": "execute_result"
    }
   ],
   "source": [
    "wordvectors.most_similar('mujer', topn = 10)"
   ]
  },
  {
   "cell_type": "code",
   "execution_count": 40,
   "metadata": {},
   "outputs": [
    {
     "data": {
      "text/plain": [
       "[('doctoro', 0.7402119636535645),\n",
       " ('doctoré', 0.6976317763328552),\n",
       " ('doctora', 0.6914691925048828),\n",
       " ('doctores', 0.668314516544342),\n",
       " ('dr', 0.657386839389801),\n",
       " ('profesor', 0.6322946548461914),\n",
       " ('cirujano', 0.6235553622245789),\n",
       " ('catedrático', 0.6097984313964844),\n",
       " ('licenciado', 0.6047168374061584),\n",
       " ('neurocirujano', 0.6024907827377319)]"
      ]
     },
     "execution_count": 40,
     "metadata": {},
     "output_type": "execute_result"
    }
   ],
   "source": [
    "wordvectors.most_similar('doctor', topn = 10)"
   ]
  },
  {
   "cell_type": "code",
   "execution_count": 41,
   "metadata": {},
   "outputs": [
    {
     "data": {
      "text/plain": [
       "[('neuróloga', 0.7426453232765198),\n",
       " ('profesora', 0.7331705689430237),\n",
       " ('psicóloga', 0.7246388792991638),\n",
       " ('catedrática', 0.7205197811126709),\n",
       " ('cardióloga', 0.7068800330162048),\n",
       " ('viróloga', 0.7002931237220764),\n",
       " ('doctorada', 0.6974771618843079),\n",
       " ('doctoras', 0.6915507912635803),\n",
       " ('doctor', 0.691469132900238),\n",
       " ('bióloga', 0.6903846263885498)]"
      ]
     },
     "execution_count": 41,
     "metadata": {},
     "output_type": "execute_result"
    }
   ],
   "source": [
    "wordvectors.most_similar('doctora', topn = 10)"
   ]
  },
  {
   "cell_type": "markdown",
   "metadata": {},
   "source": [
    "### Analogías\n",
    "\n",
    "Analogías consisten en comparar 3 términos mediante una operación del estilo:\n",
    "\n",
    "$$palabra1 - palabra2 \\approx x- palabra3$$\n",
    "\n",
    "$$palabra1 - palabra2 + palabra3 \\approx x $$"
   ]
  },
  {
   "cell_type": "code",
   "execution_count": 34,
   "metadata": {},
   "outputs": [
    {
     "data": {
      "text/plain": [
       "[('berlin', 0.7378180623054504),\n",
       " ('münchen', 0.7009305357933044),\n",
       " ('dresden', 0.6813312768936157),\n",
       " ('frankfurt', 0.6787689328193665),\n",
       " ('munich', 0.6744019985198975)]"
      ]
     },
     "execution_count": 34,
     "metadata": {},
     "output_type": "execute_result"
    }
   ],
   "source": [
    "wordvectors.most_similar(positive = ['paris', 'alemania'], negative = ['francia'], topn = 5)"
   ]
  },
  {
   "cell_type": "code",
   "execution_count": 36,
   "metadata": {},
   "outputs": [
    {
     "data": {
      "text/plain": [
       "[('reina', 0.6306586265563965),\n",
       " ('infanta', 0.5454354882240295),\n",
       " ('princesa', 0.5346059203147888),\n",
       " ('berenguela', 0.5296739339828491),\n",
       " ('consorte', 0.5245280265808105)]"
      ]
     },
     "execution_count": 36,
     "metadata": {},
     "output_type": "execute_result"
    }
   ],
   "source": [
    "wordvectors.most_similar(positive = ['rey', 'mujer'], negative = ['hombre'], topn = 5)"
   ]
  },
  {
   "cell_type": "code",
   "execution_count": 37,
   "metadata": {},
   "outputs": [
    {
     "data": {
      "text/plain": [
       "[('doctora', 0.6580489277839661),\n",
       " ('oncóloga', 0.5702902674674988),\n",
       " ('ginecóloga', 0.5485242605209351),\n",
       " ('doctoré', 0.5280942320823669),\n",
       " ('doctorada', 0.5272044539451599)]"
      ]
     },
     "execution_count": 37,
     "metadata": {},
     "output_type": "execute_result"
    }
   ],
   "source": [
    "wordvectors.most_similar(positive = ['doctor', 'mujer'], negative = ['hombre'], topn = 5)"
   ]
  },
  {
   "cell_type": "code",
   "execution_count": 93,
   "metadata": {},
   "outputs": [
    {
     "data": {
      "text/plain": [
       "[('cachorro', 0.5529180765151978),\n",
       " ('perrito', 0.49059659242630005),\n",
       " ('cachorrito', 0.4870520532131195),\n",
       " ('gatito', 0.48580196499824524),\n",
       " ('niños', 0.4783463180065155)]"
      ]
     },
     "execution_count": 93,
     "metadata": {},
     "output_type": "execute_result"
    }
   ],
   "source": [
    "wordvectors.most_similar(positive = ['niño', 'perro'], negative = ['hombre'], topn = 5)"
   ]
  },
  {
   "cell_type": "code",
   "execution_count": 59,
   "metadata": {},
   "outputs": [],
   "source": [
    "def construct_tsne(term, wmodel, topnw = 20):\n",
    "        embeddings = []\n",
    "        words = []\n",
    "        for similar_word, _ in wmodel.most_similar(term, topn=topnw):\n",
    "                words.append(similar_word)\n",
    "                embeddings.append(wmodel[similar_word])\n",
    "        embedding_clusters = np.array(embeddings)\n",
    "        #print(embedding_clusters.shape)\n",
    "        tsne_model_en_2d = TSNE(perplexity=15, n_components=2, init='pca', n_iter=3500, random_state=32).fit_transform(embedding_clusters)\n",
    "        return words, tsne_model_en_2d\n",
    "        n, m, k = embedding_clusters.shape\n",
    "        \n",
    "        embeddings_en_2d = np.array(tsne_model_en_2d.fit_transform(embedding_clusters.reshape(n * m, k))).reshape(n, m, 2)\n",
    "        return embeddings_en_2d, words"
   ]
  },
  {
   "cell_type": "code",
   "execution_count": 73,
   "metadata": {},
   "outputs": [],
   "source": [
    "def construct_tsne(keys, wmodel, topnw = 20):\n",
    "    embedding_clusters = []\n",
    "    word_clusters = []\n",
    "    for word in keys:\n",
    "        embeddings = []\n",
    "        words = []\n",
    "        for similar_word, _ in wmodel.most_similar(word, topn=topnw):\n",
    "            words.append(similar_word)\n",
    "            embeddings.append(wmodel[similar_word])\n",
    "        embedding_clusters.append(embeddings)\n",
    "        word_clusters.append(words)\n",
    "\n",
    "    embedding_clusters = np.array(embedding_clusters)\n",
    "    n, m, k = embedding_clusters.shape\n",
    "    tsne_model_en_2d = TSNE(perplexity=15, n_components=2, init='pca', n_iter=3500, random_state=32)\n",
    "    embeddings_en_2d = np.array(tsne_model_en_2d.fit_transform(embedding_clusters.reshape(n * m, k))).reshape(n, m, 2)\n",
    "    return embeddings_en_2d, word_clusters"
   ]
  },
  {
   "cell_type": "code",
   "execution_count": 90,
   "metadata": {},
   "outputs": [
    {
     "name": "stderr",
     "output_type": "stream",
     "text": [
      "c:\\Users\\USUARIO\\AppData\\Local\\Programs\\Python\\Python39\\lib\\site-packages\\sklearn\\manifold\\_t_sne.py:805: FutureWarning: The default learning rate in TSNE will change from 200.0 to 'auto' in 1.2.\n",
      "  warnings.warn(\n",
      "c:\\Users\\USUARIO\\AppData\\Local\\Programs\\Python\\Python39\\lib\\site-packages\\sklearn\\manifold\\_t_sne.py:991: FutureWarning: The PCA initialization in TSNE will change to have the standard deviation of PC1 equal to 1e-4 in 1.2. This will ensure better convergence.\n",
      "  warnings.warn(\n"
     ]
    }
   ],
   "source": [
    "embeddings, words= construct_tsne(['hombre', 'perro'], wordvectors, 10)"
   ]
  },
  {
   "cell_type": "code",
   "execution_count": 116,
   "metadata": {},
   "outputs": [],
   "source": [
    "from matplotlib.colors import rgb2hex\n",
    "import matplotlib.patches as mpatches\n",
    "def tsne_plot_similar_words(title, labels, embedding_clusters, word_clusters, a, fsize = (16,9)):\n",
    "    fig = plt.figure(figsize=fsize, dpi = 144)\n",
    "    ax = fig.add_subplot(111)\n",
    "    p = []\n",
    "    colors = []\n",
    "    colors.append(list(map(rgb2hex, sns.color_palette('Oranges', n_colors=len(labels))))[1])\n",
    "    colors.append(list(map(rgb2hex, sns.color_palette('Purples', n_colors=len(labels))))[1])\n",
    "    #colors = color.reshape(1,-1)\n",
    "    for label, embeddings, words, color in zip(labels, embedding_clusters, word_clusters, colors):\n",
    "        x = embeddings[:, 0]\n",
    "        y = embeddings[:, 1]\n",
    "        ax.scatter(x, y, alpha=a, label=label, s = 40, color = color)\n",
    "        for i, word in enumerate(words):\n",
    "            p.append(ax.annotate(word, xy = (x[i], y[i]), size = 8))\n",
    "\n",
    "    legend1 = mpatches.Patch(color=colors[0], label=labels[0])\n",
    "    legend2 = mpatches.Patch(color=colors[1], label=labels[1])\n",
    "    plt.legend(handles = [legend1, legend2], loc='upper right', prop={'size': 8})\n",
    "    plt.title(title, fontsize = 10)\n",
    "    ax.axes.xaxis.set_visible(False)\n",
    "    ax.axes.yaxis.set_visible(False)\n",
    "    ax.grid(False)\n",
    "\n",
    "    plt.show()"
   ]
  },
  {
   "cell_type": "code",
   "execution_count": 101,
   "metadata": {},
   "outputs": [
    {
     "data": {
      "image/png": "[encoded data removed]",
      "text/plain": [
       "<Figure size 864x576 with 1 Axes>"
      ]
     },
     "metadata": {
      "needs_background": "light"
     },
     "output_type": "display_data"
    }
   ],
   "source": [
    "tsne_plot_similar_words('Palabras similares para hombre y perro', ['hombre', 'perro'], embeddings, words, 0.7, fsize = (6,4))"
   ]
  },
  {
   "cell_type": "markdown",
   "metadata": {},
   "source": [
    "## Promediar vectores para representar texto"
   ]
  },
  {
   "cell_type": "code",
   "execution_count": 103,
   "metadata": {},
   "outputs": [],
   "source": [
    "def document_to_vectors(word2vec_model, doc, type = \"mean\"):\n",
    "    doc = [word for word in doc if word in word2vec_model]\n",
    "    if len(doc) > 0:\n",
    "        if type == \"mean\":\n",
    "            return np.mean(word2vec_model[doc], axis=0)\n",
    "        elif type == \"min\":\n",
    "            return np.min(word2vec_model[doc], axis=0)\n",
    "        elif type == \"max\":\n",
    "            return np.max(word2vec_model[doc], axis=0)\n",
    "        else:\n",
    "            return np.median(word2vec_model[doc], axis=0)"
   ]
  },
  {
   "cell_type": "code",
   "execution_count": 139,
   "metadata": {},
   "outputs": [],
   "source": [
    "docs = ['el perro camina', 'el avion vuela muy alto', 'el perro corre', 'el avion despego']"
   ]
  },
  {
   "cell_type": "code",
   "execution_count": 140,
   "metadata": {},
   "outputs": [],
   "source": [
    "wvdocs = list()\n",
    "i = 0\n",
    "for d in docs:\n",
    "    wvd = document_to_vectors(wordvectors, d.split())\n",
    "    try:\n",
    "        if wvd.any():\n",
    "            wvdocs.append(wvd)\n",
    "    except:\n",
    "        i+=1\n",
    "        pass\n"
   ]
  },
  {
   "cell_type": "code",
   "execution_count": 143,
   "metadata": {},
   "outputs": [
    {
     "name": "stdout",
     "output_type": "stream",
     "text": [
      "palabras fuera del vocabulario: 0\n"
     ]
    }
   ],
   "source": [
    "print(\"palabras fuera del vocabulario:\",i)"
   ]
  },
  {
   "cell_type": "code",
   "execution_count": 137,
   "metadata": {},
   "outputs": [
    {
     "name": "stderr",
     "output_type": "stream",
     "text": [
      "c:\\Users\\USUARIO\\AppData\\Local\\Programs\\Python\\Python39\\lib\\site-packages\\sklearn\\manifold\\_t_sne.py:805: FutureWarning: The default learning rate in TSNE will change from 200.0 to 'auto' in 1.2.\n",
      "  warnings.warn(\n",
      "c:\\Users\\USUARIO\\AppData\\Local\\Programs\\Python\\Python39\\lib\\site-packages\\sklearn\\manifold\\_t_sne.py:991: FutureWarning: The PCA initialization in TSNE will change to have the standard deviation of PC1 equal to 1e-4 in 1.2. This will ensure better convergence.\n",
      "  warnings.warn(\n"
     ]
    }
   ],
   "source": [
    "embeddings_docs = TSNE(perplexity=15, n_components=2, init='pca', n_iter=3500, random_state=32).fit_transform(wvdocs)"
   ]
  },
  {
   "cell_type": "code",
   "execution_count": 130,
   "metadata": {},
   "outputs": [
    {
     "data": {
      "text/plain": [
       "array([[  51.575962 ,  161.95859  ],\n",
       "       [-103.835526 ,  107.16044  ],\n",
       "       [ -49.028545 ,  -48.24791  ],\n",
       "       [ 106.38294  ,    6.5502105]], dtype=float32)"
      ]
     },
     "execution_count": 130,
     "metadata": {},
     "output_type": "execute_result"
    }
   ],
   "source": [
    "embeddings_docs"
   ]
  },
  {
   "cell_type": "code",
   "execution_count": 131,
   "metadata": {},
   "outputs": [],
   "source": [
    "def tsne_plot_2d_docs(title, embeddings1, texts, a, fsize = (16,9)):\n",
    "    fig = plt.figure(figsize=fsize, dpi = 144)\n",
    "    ax = fig.add_subplot(111)\n",
    "    p = []\n",
    "    colors = []\n",
    "    colors.append(list(map(rgb2hex, sns.color_palette('Oranges', n_colors=2)))[1])\n",
    "    x = embeddings1[:, 0]\n",
    "    y = embeddings1[:, 1]\n",
    "    ax.scatter(x, y, alpha=a, s = 40, color = colors[0])\n",
    "\n",
    "    for i, word in enumerate(texts):\n",
    "        p.append(ax.annotate(word, xy = (x[i], y[i]), size = 8))\n",
    "\n",
    "    plt.title(title, fontsize = 10)\n",
    "    #ax = plt.gca()\n",
    "    ax.axes.xaxis.set_visible(False)\n",
    "    ax.axes.yaxis.set_visible(False)\n",
    "\n",
    "    ax.grid(False)\n",
    "\n",
    "    plt.show()"
   ]
  },
  {
   "cell_type": "code",
   "execution_count": 141,
   "metadata": {},
   "outputs": [
    {
     "data": {
      "image/png": "[encoded data removed]",
      "text/plain": [
       "<Figure size 864x576 with 1 Axes>"
      ]
     },
     "metadata": {
      "needs_background": "light"
     },
     "output_type": "display_data"
    }
   ],
   "source": [
    "tsne_plot_2d_docs('bla', embeddings_docs,docs, 0.5, (6,4))"
   ]
  }
 ],
 "metadata": {
  "kernelspec": {
   "display_name": "Python 3.9.13 64-bit",
   "language": "python",
   "name": "python3"
  },
  "language_info": {
   "codemirror_mode": {
    "name": "ipython",
    "version": 3
   },
   "file_extension": ".py",
   "mimetype": "text/x-python",
   "name": "python",
   "nbconvert_exporter": "python",
   "pygments_lexer": "ipython3",
   "version": "3.9.13"
  },
  "orig_nbformat": 4,
  "vscode": {
   "interpreter": {
    "hash": "4ff442374353e7cd8d0b317b986b0b774c361b92b00d7ea43e4b1384f67d1c1b"
   }
  }
 },
 "nbformat": 4,
 "nbformat_minor": 2
}
