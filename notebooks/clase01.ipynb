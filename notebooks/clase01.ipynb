{
 "cells": [
  {
   "cell_type": "markdown",
   "metadata": {},
   "source": [
    "# Clase 01: Conceptos básicos de NLP\n",
    "\n",
    "Instalar y cargar las librerías como sigue a continuación: "
   ]
  },
  {
   "cell_type": "code",
   "execution_count": 23,
   "metadata": {},
   "outputs": [],
   "source": [
    "# si no tiene alguna librería, ejecutar en un bloque lo siguiente:\n",
    "# !pip install -U nombre_libreria\n",
    "\n",
    "import numpy as np\n",
    "import pandas as pd\n",
    "import re\n",
    "import nltk\n",
    "import spacy\n",
    "import string\n",
    "from tqdm.auto import tqdm\n",
    "import csv\n",
    "import os\n",
    "import emoji"
   ]
  },
  {
   "cell_type": "markdown",
   "metadata": {},
   "source": [
    "# Dataset\n",
    "\n",
    "Usaremos un dataset de mensajes de odio en español alojado en <https://zenodo.org/record/2592149#.Ystdn3bMKUl>"
   ]
  },
  {
   "cell_type": "code",
   "execution_count": 6,
   "metadata": {},
   "outputs": [
    {
     "name": "stdout",
     "output_type": "stream",
     "text": [
      "/Users/hernan/dev/MTI-455/notebooks/labeled_corpus_6K.txt\n"
     ]
    }
   ],
   "source": [
    "cwd = os.getcwd()\n",
    "print(os.path.join(cwd, \"labeled_corpus_6K.txt\"))"
   ]
  },
  {
   "cell_type": "code",
   "execution_count": 7,
   "metadata": {},
   "outputs": [],
   "source": [
    "df = pd.read_csv(os.path.join(cwd, \"labeled_corpus_6K.txt\"),\n",
    "                         sep = \"\\t\", \n",
    "                         encoding = \"utf8\",\n",
    "                         quotechar = \"\\\"\",\n",
    "                         names=['id', 'text', 'class'], \n",
    "                         header=None) "
   ]
  },
  {
   "cell_type": "code",
   "execution_count": 8,
   "metadata": {},
   "outputs": [
    {
     "data": {
      "text/html": [
       "<div>\n",
       "<style scoped>\n",
       "    .dataframe tbody tr th:only-of-type {\n",
       "        vertical-align: middle;\n",
       "    }\n",
       "\n",
       "    .dataframe tbody tr th {\n",
       "        vertical-align: top;\n",
       "    }\n",
       "\n",
       "    .dataframe thead th {\n",
       "        text-align: right;\n",
       "    }\n",
       "</style>\n",
       "<table border=\"1\" class=\"dataframe\">\n",
       "  <thead>\n",
       "    <tr style=\"text-align: right;\">\n",
       "      <th></th>\n",
       "      <th>id</th>\n",
       "      <th>text</th>\n",
       "      <th>class</th>\n",
       "    </tr>\n",
       "  </thead>\n",
       "  <tbody>\n",
       "    <tr>\n",
       "      <th>0</th>\n",
       "      <td>828025263321657348</td>\n",
       "      <td>Ismael es egocentrico porque se vuelve loca si...</td>\n",
       "      <td>0</td>\n",
       "    </tr>\n",
       "    <tr>\n",
       "      <th>1</th>\n",
       "      <td>828025128797741057</td>\n",
       "      <td>..ya tardaba en salir quien pronunciase nombre...</td>\n",
       "      <td>0</td>\n",
       "    </tr>\n",
       "    <tr>\n",
       "      <th>2</th>\n",
       "      <td>828025087815274496</td>\n",
       "      <td>(Esto no es un discurso político y razonado, o...</td>\n",
       "      <td>0</td>\n",
       "    </tr>\n",
       "    <tr>\n",
       "      <th>3</th>\n",
       "      <td>828025006626058241</td>\n",
       "      <td>Muy despreciados,siiii,pero todos vestidos de ...</td>\n",
       "      <td>1</td>\n",
       "    </tr>\n",
       "    <tr>\n",
       "      <th>4</th>\n",
       "      <td>828024709761658880</td>\n",
       "      <td>marica explicame porque a veces no te entiendo...</td>\n",
       "      <td>1</td>\n",
       "    </tr>\n",
       "  </tbody>\n",
       "</table>\n",
       "</div>"
      ],
      "text/plain": [
       "                   id                                               text  \\\n",
       "0  828025263321657348  Ismael es egocentrico porque se vuelve loca si...   \n",
       "1  828025128797741057  ..ya tardaba en salir quien pronunciase nombre...   \n",
       "2  828025087815274496  (Esto no es un discurso político y razonado, o...   \n",
       "3  828025006626058241  Muy despreciados,siiii,pero todos vestidos de ...   \n",
       "4  828024709761658880  marica explicame porque a veces no te entiendo...   \n",
       "\n",
       "   class  \n",
       "0      0  \n",
       "1      0  \n",
       "2      0  \n",
       "3      1  \n",
       "4      1  "
      ]
     },
     "execution_count": 8,
     "metadata": {},
     "output_type": "execute_result"
    }
   ],
   "source": [
    "df.head(5)"
   ]
  },
  {
   "cell_type": "markdown",
   "metadata": {},
   "source": [
    "# Pre-procesamos el texto\n",
    "\n",
    "Utilizaremos un archivo llamado ``preprocessing_tweets.py`` que contiene diversas funciones para limpiar el texto.\n",
    "\n"
   ]
  },
  {
   "cell_type": "code",
   "execution_count": 9,
   "metadata": {},
   "outputs": [],
   "source": [
    "# todo a minúscula.\n",
    "from preprocessing_tweets import *\n",
    "df['text_prepro'] = df['text'].str.lower()"
   ]
  },
  {
   "cell_type": "code",
   "execution_count": 10,
   "metadata": {},
   "outputs": [
    {
     "data": {
      "text/html": [
       "<div>\n",
       "<style scoped>\n",
       "    .dataframe tbody tr th:only-of-type {\n",
       "        vertical-align: middle;\n",
       "    }\n",
       "\n",
       "    .dataframe tbody tr th {\n",
       "        vertical-align: top;\n",
       "    }\n",
       "\n",
       "    .dataframe thead th {\n",
       "        text-align: right;\n",
       "    }\n",
       "</style>\n",
       "<table border=\"1\" class=\"dataframe\">\n",
       "  <thead>\n",
       "    <tr style=\"text-align: right;\">\n",
       "      <th></th>\n",
       "      <th>id</th>\n",
       "      <th>text</th>\n",
       "      <th>class</th>\n",
       "      <th>text_prepro</th>\n",
       "    </tr>\n",
       "  </thead>\n",
       "  <tbody>\n",
       "    <tr>\n",
       "      <th>0</th>\n",
       "      <td>828025263321657348</td>\n",
       "      <td>Ismael es egocentrico porque se vuelve loca si...</td>\n",
       "      <td>0</td>\n",
       "      <td>ismael es egocentrico porque se vuelve loca si...</td>\n",
       "    </tr>\n",
       "    <tr>\n",
       "      <th>1</th>\n",
       "      <td>828025128797741057</td>\n",
       "      <td>..ya tardaba en salir quien pronunciase nombre...</td>\n",
       "      <td>0</td>\n",
       "      <td>..ya tardaba en salir quien pronunciase nombre...</td>\n",
       "    </tr>\n",
       "    <tr>\n",
       "      <th>2</th>\n",
       "      <td>828025087815274496</td>\n",
       "      <td>(Esto no es un discurso político y razonado, o...</td>\n",
       "      <td>0</td>\n",
       "      <td>(esto no es un discurso político y razonado, o...</td>\n",
       "    </tr>\n",
       "    <tr>\n",
       "      <th>3</th>\n",
       "      <td>828025006626058241</td>\n",
       "      <td>Muy despreciados,siiii,pero todos vestidos de ...</td>\n",
       "      <td>1</td>\n",
       "      <td>muy despreciados,siiii,pero todos vestidos de ...</td>\n",
       "    </tr>\n",
       "    <tr>\n",
       "      <th>4</th>\n",
       "      <td>828024709761658880</td>\n",
       "      <td>marica explicame porque a veces no te entiendo...</td>\n",
       "      <td>1</td>\n",
       "      <td>marica explicame porque a veces no te entiendo...</td>\n",
       "    </tr>\n",
       "  </tbody>\n",
       "</table>\n",
       "</div>"
      ],
      "text/plain": [
       "                   id                                               text  \\\n",
       "0  828025263321657348  Ismael es egocentrico porque se vuelve loca si...   \n",
       "1  828025128797741057  ..ya tardaba en salir quien pronunciase nombre...   \n",
       "2  828025087815274496  (Esto no es un discurso político y razonado, o...   \n",
       "3  828025006626058241  Muy despreciados,siiii,pero todos vestidos de ...   \n",
       "4  828024709761658880  marica explicame porque a veces no te entiendo...   \n",
       "\n",
       "   class                                        text_prepro  \n",
       "0      0  ismael es egocentrico porque se vuelve loca si...  \n",
       "1      0  ..ya tardaba en salir quien pronunciase nombre...  \n",
       "2      0  (esto no es un discurso político y razonado, o...  \n",
       "3      1  muy despreciados,siiii,pero todos vestidos de ...  \n",
       "4      1  marica explicame porque a veces no te entiendo...  "
      ]
     },
     "execution_count": 10,
     "metadata": {},
     "output_type": "execute_result"
    }
   ],
   "source": [
    "df.head()"
   ]
  },
  {
   "cell_type": "markdown",
   "metadata": {},
   "source": [
    "Eliminamos menciones de URL"
   ]
  },
  {
   "cell_type": "code",
   "execution_count": 11,
   "metadata": {},
   "outputs": [
    {
     "name": "stderr",
     "output_type": "stream",
     "text": [
      "100%|██████████| 5938/5938 [00:00<00:00, 151866.35it/s]\n"
     ]
    }
   ],
   "source": [
    "# eliminamos urls\n",
    "tqdm.pandas()\n",
    "df['text_prepro'] = df['text_prepro'].progress_apply(lambda text: remove_mentions_urls(text))"
   ]
  },
  {
   "cell_type": "code",
   "execution_count": 12,
   "metadata": {},
   "outputs": [
    {
     "name": "stderr",
     "output_type": "stream",
     "text": [
      "100%|██████████| 5938/5938 [00:00<00:00, 186824.62it/s]\n"
     ]
    }
   ],
   "source": [
    "# eliminamos hashtags\n",
    "df['text_prepro'] = df['text_prepro'].progress_apply(lambda text: remove_hts(text))"
   ]
  },
  {
   "cell_type": "code",
   "execution_count": 13,
   "metadata": {},
   "outputs": [
    {
     "name": "stderr",
     "output_type": "stream",
     "text": [
      "100%|██████████| 5938/5938 [00:00<00:00, 66880.72it/s]\n"
     ]
    }
   ],
   "source": [
    "# eliminamos puntuacion\n",
    "df['text_prepro'] = df['text_prepro'].progress_apply(lambda text: remove_punctuation(text))"
   ]
  },
  {
   "cell_type": "code",
   "execution_count": 14,
   "metadata": {},
   "outputs": [
    {
     "name": "stderr",
     "output_type": "stream",
     "text": [
      "100%|██████████| 5938/5938 [00:00<00:00, 160316.29it/s]\n"
     ]
    }
   ],
   "source": [
    "# eliminamos numeros\n",
    "df['text_prepro'] = df['text_prepro'].progress_apply(lambda text: remove_numbers(text))"
   ]
  },
  {
   "cell_type": "code",
   "execution_count": 15,
   "metadata": {},
   "outputs": [
    {
     "name": "stderr",
     "output_type": "stream",
     "text": [
      "100%|██████████| 5938/5938 [00:00<00:00, 505999.01it/s]\n"
     ]
    }
   ],
   "source": [
    "# eliminamos tildes\n",
    "df['text_prepro'] = df['text_prepro'].progress_apply(lambda text: remove_accents(text))"
   ]
  },
  {
   "cell_type": "code",
   "execution_count": 24,
   "metadata": {},
   "outputs": [
    {
     "name": "stderr",
     "output_type": "stream",
     "text": [
      "100%|██████████| 5938/5938 [00:00<00:00, 186812.01it/s]\n"
     ]
    }
   ],
   "source": [
    "# eliminamos stopwords\n",
    "stopwords = create_stopwords()\n",
    "df['text_prepro'] = df['text_prepro'].progress_apply(lambda text: remove_stopwords(text, stopwords))"
   ]
  },
  {
   "cell_type": "code",
   "execution_count": 25,
   "metadata": {},
   "outputs": [
    {
     "name": "stderr",
     "output_type": "stream",
     "text": [
      "100%|██████████| 5938/5938 [00:00<00:00, 325102.50it/s]\n"
     ]
    }
   ],
   "source": [
    "df['text_prepro'] = df['text_prepro'].progress_apply(lambda text: remove_dots(text))"
   ]
  },
  {
   "cell_type": "code",
   "execution_count": 26,
   "metadata": {},
   "outputs": [
    {
     "data": {
      "text/html": [
       "<div>\n",
       "<style scoped>\n",
       "    .dataframe tbody tr th:only-of-type {\n",
       "        vertical-align: middle;\n",
       "    }\n",
       "\n",
       "    .dataframe tbody tr th {\n",
       "        vertical-align: top;\n",
       "    }\n",
       "\n",
       "    .dataframe thead th {\n",
       "        text-align: right;\n",
       "    }\n",
       "</style>\n",
       "<table border=\"1\" class=\"dataframe\">\n",
       "  <thead>\n",
       "    <tr style=\"text-align: right;\">\n",
       "      <th></th>\n",
       "      <th>id</th>\n",
       "      <th>text</th>\n",
       "      <th>class</th>\n",
       "      <th>text_prepro</th>\n",
       "    </tr>\n",
       "  </thead>\n",
       "  <tbody>\n",
       "    <tr>\n",
       "      <th>0</th>\n",
       "      <td>828025263321657348</td>\n",
       "      <td>Ismael es egocentrico porque se vuelve loca si...</td>\n",
       "      <td>0</td>\n",
       "      <td>ismael egocentrico vuelve loca pelo bonito😂😂😂😂...</td>\n",
       "    </tr>\n",
       "    <tr>\n",
       "      <th>1</th>\n",
       "      <td>828025128797741057</td>\n",
       "      <td>..ya tardaba en salir quien pronunciase nombre...</td>\n",
       "      <td>0</td>\n",
       "      <td>tardaba salir pronunciase nombre catalan silab...</td>\n",
       "    </tr>\n",
       "    <tr>\n",
       "      <th>2</th>\n",
       "      <td>828025087815274496</td>\n",
       "      <td>(Esto no es un discurso político y razonado, o...</td>\n",
       "      <td>0</td>\n",
       "      <td>discurso politico razonado obviamente llamada ...</td>\n",
       "    </tr>\n",
       "    <tr>\n",
       "      <th>3</th>\n",
       "      <td>828025006626058241</td>\n",
       "      <td>Muy despreciados,siiii,pero todos vestidos de ...</td>\n",
       "      <td>1</td>\n",
       "      <td>despreciados siiii vestidos alta costura españ...</td>\n",
       "    </tr>\n",
       "    <tr>\n",
       "      <th>4</th>\n",
       "      <td>828024709761658880</td>\n",
       "      <td>marica explicame porque a veces no te entiendo...</td>\n",
       "      <td>1</td>\n",
       "      <td>marica explicame entiendo — venir ensuciar cc ...</td>\n",
       "    </tr>\n",
       "  </tbody>\n",
       "</table>\n",
       "</div>"
      ],
      "text/plain": [
       "                   id                                               text  \\\n",
       "0  828025263321657348  Ismael es egocentrico porque se vuelve loca si...   \n",
       "1  828025128797741057  ..ya tardaba en salir quien pronunciase nombre...   \n",
       "2  828025087815274496  (Esto no es un discurso político y razonado, o...   \n",
       "3  828025006626058241  Muy despreciados,siiii,pero todos vestidos de ...   \n",
       "4  828024709761658880  marica explicame porque a veces no te entiendo...   \n",
       "\n",
       "   class                                        text_prepro  \n",
       "0      0  ismael egocentrico vuelve loca pelo bonito😂😂😂😂...  \n",
       "1      0  tardaba salir pronunciase nombre catalan silab...  \n",
       "2      0  discurso politico razonado obviamente llamada ...  \n",
       "3      1  despreciados siiii vestidos alta costura españ...  \n",
       "4      1  marica explicame entiendo — venir ensuciar cc ...  "
      ]
     },
     "execution_count": 26,
     "metadata": {},
     "output_type": "execute_result"
    }
   ],
   "source": [
    "df.head()"
   ]
  },
  {
   "cell_type": "markdown",
   "metadata": {},
   "source": [
    "# Tokenizar el texto"
   ]
  },
  {
   "cell_type": "code",
   "execution_count": 28,
   "metadata": {},
   "outputs": [
    {
     "name": "stderr",
     "output_type": "stream",
     "text": [
      "100%|██████████| 5938/5938 [00:00<00:00, 9249.09it/s]\n"
     ]
    }
   ],
   "source": [
    "df['tokenized_text'] = df.progress_apply(lambda row: nltk.word_tokenize(row['text_prepro']), axis=1)"
   ]
  },
  {
   "cell_type": "code",
   "execution_count": 29,
   "metadata": {},
   "outputs": [
    {
     "data": {
      "text/html": [
       "<div>\n",
       "<style scoped>\n",
       "    .dataframe tbody tr th:only-of-type {\n",
       "        vertical-align: middle;\n",
       "    }\n",
       "\n",
       "    .dataframe tbody tr th {\n",
       "        vertical-align: top;\n",
       "    }\n",
       "\n",
       "    .dataframe thead th {\n",
       "        text-align: right;\n",
       "    }\n",
       "</style>\n",
       "<table border=\"1\" class=\"dataframe\">\n",
       "  <thead>\n",
       "    <tr style=\"text-align: right;\">\n",
       "      <th></th>\n",
       "      <th>id</th>\n",
       "      <th>text</th>\n",
       "      <th>class</th>\n",
       "      <th>text_prepro</th>\n",
       "      <th>tokenized_text</th>\n",
       "    </tr>\n",
       "  </thead>\n",
       "  <tbody>\n",
       "    <tr>\n",
       "      <th>0</th>\n",
       "      <td>828025263321657348</td>\n",
       "      <td>Ismael es egocentrico porque se vuelve loca si...</td>\n",
       "      <td>0</td>\n",
       "      <td>ismael egocentrico vuelve loca pelo bonito😂😂😂😂...</td>\n",
       "      <td>[ismael, egocentrico, vuelve, loca, pelo, boni...</td>\n",
       "    </tr>\n",
       "    <tr>\n",
       "      <th>1</th>\n",
       "      <td>828025128797741057</td>\n",
       "      <td>..ya tardaba en salir quien pronunciase nombre...</td>\n",
       "      <td>0</td>\n",
       "      <td>tardaba salir pronunciase nombre catalan silab...</td>\n",
       "      <td>[tardaba, salir, pronunciase, nombre, catalan,...</td>\n",
       "    </tr>\n",
       "    <tr>\n",
       "      <th>2</th>\n",
       "      <td>828025087815274496</td>\n",
       "      <td>(Esto no es un discurso político y razonado, o...</td>\n",
       "      <td>0</td>\n",
       "      <td>discurso politico razonado obviamente llamada ...</td>\n",
       "      <td>[discurso, politico, razonado, obviamente, lla...</td>\n",
       "    </tr>\n",
       "    <tr>\n",
       "      <th>3</th>\n",
       "      <td>828025006626058241</td>\n",
       "      <td>Muy despreciados,siiii,pero todos vestidos de ...</td>\n",
       "      <td>1</td>\n",
       "      <td>despreciados siiii vestidos alta costura españ...</td>\n",
       "      <td>[despreciados, siiii, vestidos, alta, costura,...</td>\n",
       "    </tr>\n",
       "    <tr>\n",
       "      <th>4</th>\n",
       "      <td>828024709761658880</td>\n",
       "      <td>marica explicame porque a veces no te entiendo...</td>\n",
       "      <td>1</td>\n",
       "      <td>marica explicame entiendo — venir ensuciar cc ...</td>\n",
       "      <td>[marica, explicame, entiendo, —, venir, ensuci...</td>\n",
       "    </tr>\n",
       "  </tbody>\n",
       "</table>\n",
       "</div>"
      ],
      "text/plain": [
       "                   id                                               text  \\\n",
       "0  828025263321657348  Ismael es egocentrico porque se vuelve loca si...   \n",
       "1  828025128797741057  ..ya tardaba en salir quien pronunciase nombre...   \n",
       "2  828025087815274496  (Esto no es un discurso político y razonado, o...   \n",
       "3  828025006626058241  Muy despreciados,siiii,pero todos vestidos de ...   \n",
       "4  828024709761658880  marica explicame porque a veces no te entiendo...   \n",
       "\n",
       "   class                                        text_prepro  \\\n",
       "0      0  ismael egocentrico vuelve loca pelo bonito😂😂😂😂...   \n",
       "1      0  tardaba salir pronunciase nombre catalan silab...   \n",
       "2      0  discurso politico razonado obviamente llamada ...   \n",
       "3      1  despreciados siiii vestidos alta costura españ...   \n",
       "4      1  marica explicame entiendo — venir ensuciar cc ...   \n",
       "\n",
       "                                      tokenized_text  \n",
       "0  [ismael, egocentrico, vuelve, loca, pelo, boni...  \n",
       "1  [tardaba, salir, pronunciase, nombre, catalan,...  \n",
       "2  [discurso, politico, razonado, obviamente, lla...  \n",
       "3  [despreciados, siiii, vestidos, alta, costura,...  \n",
       "4  [marica, explicame, entiendo, —, venir, ensuci...  "
      ]
     },
     "execution_count": 29,
     "metadata": {},
     "output_type": "execute_result"
    }
   ],
   "source": [
    "df.head()"
   ]
  },
  {
   "cell_type": "code",
   "execution_count": 32,
   "metadata": {},
   "outputs": [
    {
     "data": {
      "text/plain": [
       "['ismael',\n",
       " 'egocentrico',\n",
       " 'vuelve',\n",
       " 'loca',\n",
       " 'pelo',\n",
       " 'bonito😂😂😂😂',\n",
       " 'define',\n",
       " 'objetivo']"
      ]
     },
     "execution_count": 32,
     "metadata": {},
     "output_type": "execute_result"
    }
   ],
   "source": [
    "df.iloc[0]['tokenized_text']"
   ]
  },
  {
   "cell_type": "code",
   "execution_count": 33,
   "metadata": {},
   "outputs": [],
   "source": [
    "from sklearn.feature_extraction.text import CountVectorizer"
   ]
  },
  {
   "cell_type": "code",
   "execution_count": 34,
   "metadata": {},
   "outputs": [],
   "source": [
    "vect = CountVectorizer()  \n",
    "vects = vect.fit_transform(df.text_prepro)"
   ]
  },
  {
   "cell_type": "code",
   "execution_count": 35,
   "metadata": {},
   "outputs": [
    {
     "data": {
      "text/plain": [
       "<5938x12916 sparse matrix of type '<class 'numpy.int64'>'\n",
       "\twith 41466 stored elements in Compressed Sparse Row format>"
      ]
     },
     "execution_count": 35,
     "metadata": {},
     "output_type": "execute_result"
    }
   ],
   "source": [
    "vects"
   ]
  },
  {
   "cell_type": "code",
   "execution_count": 53,
   "metadata": {},
   "outputs": [
    {
     "name": "stderr",
     "output_type": "stream",
     "text": [
      "/Library/Frameworks/Python.framework/Versions/3.9/lib/python3.9/site-packages/sklearn/utils/deprecation.py:87: FutureWarning: Function get_feature_names is deprecated; get_feature_names is deprecated in 1.0 and will be removed in 1.2. Please use get_feature_names_out instead.\n",
      "  warnings.warn(msg, category=FutureWarning)\n"
     ]
    },
    {
     "name": "stdout",
     "output_type": "stream",
     "text": [
      "                 Doc1  Doc2  Doc3  Doc4  Doc5  Doc6  Doc7  Doc8  Doc9  Doc10  \\\n",
      "subnormal           0     0     0     0     0     0     0     0     0      0   \n",
      "independentista     0     0     0     0     0     0     0     0     0      0   \n",
      "fascista            0     0     0     0     0     0     0     0     0      0   \n",
      "facha               0     0     0     0     0     0     0     0     0      0   \n",
      "mierda              0     0     0     0     0     0     0     0     0      0   \n",
      "fascistas           0     0     0     0     0     0     0     0     0      0   \n",
      "fachas              0     0     0     0     0     0     0     0     0      0   \n",
      "puta                0     0     0     0     0     0     0     0     0      0   \n",
      "puto                0     0     0     0     0     0     0     0     0      0   \n",
      "maricon             0     0     0     0     0     0     0     0     1      0   \n",
      "\n",
      "                 ...  Doc5930  Doc5931  Doc5932  Doc5933  Doc5934  Doc5935  \\\n",
      "subnormal        ...        0        0        0        0        0        0   \n",
      "independentista  ...        1        1        0        1        1        1   \n",
      "fascista         ...        0        0        1        0        0        0   \n",
      "facha            ...        0        0        0        0        0        0   \n",
      "mierda           ...        0        0        0        0        0        0   \n",
      "fascistas        ...        0        0        0        0        0        0   \n",
      "fachas           ...        0        0        0        0        0        0   \n",
      "puta             ...        0        0        0        0        0        0   \n",
      "puto             ...        0        0        0        0        0        0   \n",
      "maricon          ...        0        0        0        0        0        0   \n",
      "\n",
      "                 Doc5936  Doc5937  Doc5938  total_count  \n",
      "subnormal              0        0        0          716  \n",
      "independentista        0        1        1          552  \n",
      "fascista               1        0        0          331  \n",
      "facha                  0        0        0          307  \n",
      "mierda                 0        0        0          251  \n",
      "fascistas              0        0        0          249  \n",
      "fachas                 0        0        0          231  \n",
      "puta                   0        0        0          204  \n",
      "puto                   0        0        0          189  \n",
      "maricon                0        0        0          186  \n",
      "\n",
      "[10 rows x 5939 columns]\n"
     ]
    }
   ],
   "source": [
    "td = pd.DataFrame(vects.todense())\n",
    "td.columns = vect.get_feature_names()\n",
    "term_document_matrix = td.T\n",
    "term_document_matrix.columns = ['Doc'+str(i) for i in range(1, td.shape[0]+1)]\n",
    "term_document_matrix['total_count'] = term_document_matrix.sum(axis=1)\n",
    "\n",
    "# Top 25 words \n",
    "term_document_matrix = term_document_matrix.sort_values(by ='total_count',ascending=False)\n",
    "\n",
    "# Print the first 10 rows \n",
    "print(term_document_matrix.head(10))"
   ]
  },
  {
   "cell_type": "code",
   "execution_count": 54,
   "metadata": {},
   "outputs": [
    {
     "data": {
      "text/plain": [
       "<AxesSubplot:>"
      ]
     },
     "execution_count": 54,
     "metadata": {},
     "output_type": "execute_result"
    },
    {
     "data": {
      "image/png": "[encoded data removed]",
      "text/plain": [
       "<Figure size 432x288 with 1 Axes>"
      ]
     },
     "metadata": {
      "needs_background": "light"
     },
     "output_type": "display_data"
    }
   ],
   "source": [
    "term_document_matrix['total_count'].head(10).plot.bar()\n"
   ]
  },
  {
   "cell_type": "code",
   "execution_count": 36,
   "metadata": {},
   "outputs": [
    {
     "name": "stdout",
     "output_type": "stream",
     "text": [
      "            Doc 1  Doc 2  Doc 3  Doc 4  Doc 5\n",
      "salir           0      1      0      0      0\n",
      "atencion        0      0      1      0      0\n",
      "cuesta          0      0      1      0      0\n",
      "loca            1      0      0      0      0\n",
      "joder           0      0      1      0      0\n",
      "obviamente      0      0      1      0      0\n",
      "eduaaard        0      1      0      0      0\n",
      "ensuciar        0      0      0      0      1\n",
      "explicame       0      0      0      0      1\n",
      "plana           0      1      0      0      0\n"
     ]
    },
    {
     "name": "stderr",
     "output_type": "stream",
     "text": [
      "/Library/Frameworks/Python.framework/Versions/3.9/lib/python3.9/site-packages/sklearn/utils/deprecation.py:87: FutureWarning: Function get_feature_names is deprecated; get_feature_names is deprecated in 1.0 and will be removed in 1.2. Please use get_feature_names_out instead.\n",
      "  warnings.warn(msg, category=FutureWarning)\n"
     ]
    }
   ],
   "source": [
    "td = pd.DataFrame(vects.todense()).iloc[:5]  \n",
    "td.columns = vect.get_feature_names()\n",
    "term_document_matrix = td.T\n",
    "term_document_matrix.columns = ['Doc'+str(i) for i in range(1, td.shape[0]+1)]\n",
    "term_document_matrix['total_count'] = term_document_matrix.sum(axis=1)\n",
    "\n",
    "# Top 25 words \n",
    "term_document_matrix = term_document_matrix.sort_values(by ='total_count',ascending=False)[:25] \n",
    "\n",
    "# Print the first 10 rows \n",
    "print(term_document_matrix.drop(columns=['total_count']).head(10))"
   ]
  },
  {
   "cell_type": "code",
   "execution_count": null,
   "metadata": {},
   "outputs": [],
   "source": []
  }
 ],
 "metadata": {
  "kernelspec": {
   "display_name": "Python 3.9.13 64-bit",
   "language": "python",
   "name": "python3"
  },
  "language_info": {
   "codemirror_mode": {
    "name": "ipython",
    "version": 3
   },
   "file_extension": ".py",
   "mimetype": "text/x-python",
   "name": "python",
   "nbconvert_exporter": "python",
   "pygments_lexer": "ipython3",
   "version": "3.9.13"
  },
  "orig_nbformat": 4,
  "vscode": {
   "interpreter": {
    "hash": "aee8b7b246df8f9039afb4144a1f6fd8d2ca17a180786b69acc140d282b71a49"
   }
  }
 },
 "nbformat": 4,
 "nbformat_minor": 2
}
