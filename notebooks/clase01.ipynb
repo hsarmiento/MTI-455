{
 "cells": [
  {
   "cell_type": "markdown",
   "metadata": {},
   "source": [
    "# Clase 01: Conceptos básicos de NLP\n",
    "\n",
    "Instalar y cargar las librerías como sigue a continuación: "
   ]
  },
  {
   "cell_type": "code",
   "execution_count": 34,
   "metadata": {},
   "outputs": [],
   "source": [
    "# si no tiene alguna librería, ejecutar en un bloque lo siguiente:\n",
    "# !pip install -U nombre_libreria\n",
    "\n",
    "import numpy as np\n",
    "import pandas as pd\n",
    "import re\n",
    "import nltk\n",
    "import spacy\n",
    "import string\n",
    "from tqdm.auto import tqdm\n",
    "import csv\n",
    "import os\n",
    "import emoji"
   ]
  },
  {
   "cell_type": "markdown",
   "metadata": {},
   "source": [
    "# Dataset\n",
    "\n",
    "Usaremos un dataset de mensajes de odio en español alojado en <https://zenodo.org/record/2592149#.Ystdn3bMKUl>"
   ]
  },
  {
   "cell_type": "code",
   "execution_count": 13,
   "metadata": {},
   "outputs": [
    {
     "name": "stdout",
     "output_type": "stream",
     "text": [
      "d:\\dev\\MTI-455\\notebooks\\labeled_corpus_6K.txt\n"
     ]
    }
   ],
   "source": [
    "cwd = os.getcwd()\n",
    "print(os.path.join(cwd, \"labeled_corpus_6K.txt\"))"
   ]
  },
  {
   "cell_type": "code",
   "execution_count": 37,
   "metadata": {},
   "outputs": [],
   "source": [
    "df = pd.read_csv(os.path.join(cwd, \"labeled_corpus_6K.txt\"),\n",
    "                         sep = \"\\t\", \n",
    "                         encoding = \"utf8\",\n",
    "                         quotechar = \"\\\"\",\n",
    "                         names=['id', 'text', 'class'], \n",
    "                         header=None) "
   ]
  },
  {
   "cell_type": "code",
   "execution_count": 27,
   "metadata": {},
   "outputs": [
    {
     "data": {
      "text/html": [
       "<div>\n",
       "<style scoped>\n",
       "    .dataframe tbody tr th:only-of-type {\n",
       "        vertical-align: middle;\n",
       "    }\n",
       "\n",
       "    .dataframe tbody tr th {\n",
       "        vertical-align: top;\n",
       "    }\n",
       "\n",
       "    .dataframe thead th {\n",
       "        text-align: right;\n",
       "    }\n",
       "</style>\n",
       "<table border=\"1\" class=\"dataframe\">\n",
       "  <thead>\n",
       "    <tr style=\"text-align: right;\">\n",
       "      <th></th>\n",
       "      <th>id</th>\n",
       "      <th>text</th>\n",
       "      <th>class</th>\n",
       "    </tr>\n",
       "  </thead>\n",
       "  <tbody>\n",
       "    <tr>\n",
       "      <th>0</th>\n",
       "      <td>828025263321657348</td>\n",
       "      <td>Ismael es egocentrico porque se vuelve loca si...</td>\n",
       "      <td>0</td>\n",
       "    </tr>\n",
       "    <tr>\n",
       "      <th>1</th>\n",
       "      <td>828025128797741057</td>\n",
       "      <td>..ya tardaba en salir quien pronunciase nombre...</td>\n",
       "      <td>0</td>\n",
       "    </tr>\n",
       "    <tr>\n",
       "      <th>2</th>\n",
       "      <td>828025087815274496</td>\n",
       "      <td>(Esto no es un discurso político y razonado, o...</td>\n",
       "      <td>0</td>\n",
       "    </tr>\n",
       "    <tr>\n",
       "      <th>3</th>\n",
       "      <td>828025006626058241</td>\n",
       "      <td>Muy despreciados,siiii,pero todos vestidos de ...</td>\n",
       "      <td>1</td>\n",
       "    </tr>\n",
       "    <tr>\n",
       "      <th>4</th>\n",
       "      <td>828024709761658880</td>\n",
       "      <td>marica explicame porque a veces no te entiendo...</td>\n",
       "      <td>1</td>\n",
       "    </tr>\n",
       "  </tbody>\n",
       "</table>\n",
       "</div>"
      ],
      "text/plain": [
       "                   id                                               text  \\\n",
       "0  828025263321657348  Ismael es egocentrico porque se vuelve loca si...   \n",
       "1  828025128797741057  ..ya tardaba en salir quien pronunciase nombre...   \n",
       "2  828025087815274496  (Esto no es un discurso político y razonado, o...   \n",
       "3  828025006626058241  Muy despreciados,siiii,pero todos vestidos de ...   \n",
       "4  828024709761658880  marica explicame porque a veces no te entiendo...   \n",
       "\n",
       "   class  \n",
       "0      0  \n",
       "1      0  \n",
       "2      0  \n",
       "3      1  \n",
       "4      1  "
      ]
     },
     "execution_count": 27,
     "metadata": {},
     "output_type": "execute_result"
    }
   ],
   "source": [
    "df.head(5)"
   ]
  },
  {
   "cell_type": "markdown",
   "metadata": {},
   "source": [
    "# Pre-procesamos el texto\n",
    "\n",
    "Utilizaremos un archivo llamado ``preprocessing_tweets.py`` que contiene diversas funciones para limpiar el texto.\n",
    "\n"
   ]
  },
  {
   "cell_type": "code",
   "execution_count": 42,
   "metadata": {},
   "outputs": [],
   "source": [
    "# todo a minúscula.\n",
    "from preprocessing_tweets import *\n",
    "df['text_prepo'] = df['text'].str.lower()"
   ]
  },
  {
   "cell_type": "code",
   "execution_count": 39,
   "metadata": {},
   "outputs": [
    {
     "data": {
      "text/html": [
       "<div>\n",
       "<style scoped>\n",
       "    .dataframe tbody tr th:only-of-type {\n",
       "        vertical-align: middle;\n",
       "    }\n",
       "\n",
       "    .dataframe tbody tr th {\n",
       "        vertical-align: top;\n",
       "    }\n",
       "\n",
       "    .dataframe thead th {\n",
       "        text-align: right;\n",
       "    }\n",
       "</style>\n",
       "<table border=\"1\" class=\"dataframe\">\n",
       "  <thead>\n",
       "    <tr style=\"text-align: right;\">\n",
       "      <th></th>\n",
       "      <th>id</th>\n",
       "      <th>text</th>\n",
       "      <th>class</th>\n",
       "      <th>text_prepo</th>\n",
       "    </tr>\n",
       "  </thead>\n",
       "  <tbody>\n",
       "    <tr>\n",
       "      <th>0</th>\n",
       "      <td>828025263321657348</td>\n",
       "      <td>Ismael es egocentrico porque se vuelve loca si...</td>\n",
       "      <td>0</td>\n",
       "      <td>ismael es egocentrico porque se vuelve loca si...</td>\n",
       "    </tr>\n",
       "    <tr>\n",
       "      <th>1</th>\n",
       "      <td>828025128797741057</td>\n",
       "      <td>..ya tardaba en salir quien pronunciase nombre...</td>\n",
       "      <td>0</td>\n",
       "      <td>..ya tardaba en salir quien pronunciase nombre...</td>\n",
       "    </tr>\n",
       "    <tr>\n",
       "      <th>2</th>\n",
       "      <td>828025087815274496</td>\n",
       "      <td>(Esto no es un discurso político y razonado, o...</td>\n",
       "      <td>0</td>\n",
       "      <td>(esto no es un discurso político y razonado, o...</td>\n",
       "    </tr>\n",
       "    <tr>\n",
       "      <th>3</th>\n",
       "      <td>828025006626058241</td>\n",
       "      <td>Muy despreciados,siiii,pero todos vestidos de ...</td>\n",
       "      <td>1</td>\n",
       "      <td>muy despreciados,siiii,pero todos vestidos de ...</td>\n",
       "    </tr>\n",
       "    <tr>\n",
       "      <th>4</th>\n",
       "      <td>828024709761658880</td>\n",
       "      <td>marica explicame porque a veces no te entiendo...</td>\n",
       "      <td>1</td>\n",
       "      <td>marica explicame porque a veces no te entiendo...</td>\n",
       "    </tr>\n",
       "  </tbody>\n",
       "</table>\n",
       "</div>"
      ],
      "text/plain": [
       "                   id                                               text  \\\n",
       "0  828025263321657348  Ismael es egocentrico porque se vuelve loca si...   \n",
       "1  828025128797741057  ..ya tardaba en salir quien pronunciase nombre...   \n",
       "2  828025087815274496  (Esto no es un discurso político y razonado, o...   \n",
       "3  828025006626058241  Muy despreciados,siiii,pero todos vestidos de ...   \n",
       "4  828024709761658880  marica explicame porque a veces no te entiendo...   \n",
       "\n",
       "   class                                         text_prepo  \n",
       "0      0  ismael es egocentrico porque se vuelve loca si...  \n",
       "1      0  ..ya tardaba en salir quien pronunciase nombre...  \n",
       "2      0  (esto no es un discurso político y razonado, o...  \n",
       "3      1  muy despreciados,siiii,pero todos vestidos de ...  \n",
       "4      1  marica explicame porque a veces no te entiendo...  "
      ]
     },
     "execution_count": 39,
     "metadata": {},
     "output_type": "execute_result"
    }
   ],
   "source": [
    "df.head()"
   ]
  },
  {
   "cell_type": "markdown",
   "metadata": {},
   "source": [
    "Eliminamos menciones de URL"
   ]
  },
  {
   "cell_type": "code",
   "execution_count": 43,
   "metadata": {},
   "outputs": [
    {
     "name": "stderr",
     "output_type": "stream",
     "text": [
      "100%|██████████| 5938/5938 [00:00<00:00, 247353.51it/s]\n"
     ]
    }
   ],
   "source": [
    "# eliminamos urls\n",
    "tqdm.pandas()\n",
    "df['text_prepo'] = df['text_prepo'].progress_apply(lambda text: remove_mentions_urls(text))"
   ]
  },
  {
   "cell_type": "code",
   "execution_count": 45,
   "metadata": {},
   "outputs": [
    {
     "name": "stderr",
     "output_type": "stream",
     "text": [
      "100%|██████████| 5938/5938 [00:00<00:00, 269899.40it/s]\n"
     ]
    }
   ],
   "source": [
    "# eliminamos hashtags\n",
    "df['text_prepo'] = df['text_prepo'].progress_apply(lambda text: remove_hts(text))"
   ]
  },
  {
   "cell_type": "code",
   "execution_count": 46,
   "metadata": {},
   "outputs": [
    {
     "name": "stderr",
     "output_type": "stream",
     "text": [
      "100%|██████████| 5938/5938 [00:00<00:00, 98908.99it/s]\n"
     ]
    }
   ],
   "source": [
    "# eliminamos puntuacion\n",
    "df['text_prepo'] = df['text_prepo'].progress_apply(lambda text: remove_punctuation(text))"
   ]
  },
  {
   "cell_type": "code",
   "execution_count": 47,
   "metadata": {},
   "outputs": [
    {
     "name": "stderr",
     "output_type": "stream",
     "text": [
      "100%|██████████| 5938/5938 [00:00<00:00, 247695.45it/s]\n"
     ]
    }
   ],
   "source": [
    "# eliminamos numeros\n",
    "df['text_prepo'] = df['text_prepo'].progress_apply(lambda text: remove_numbers(text))"
   ]
  },
  {
   "cell_type": "code",
   "execution_count": 48,
   "metadata": {},
   "outputs": [
    {
     "name": "stderr",
     "output_type": "stream",
     "text": [
      "100%|██████████| 5938/5938 [00:00<00:00, 588928.28it/s]\n"
     ]
    }
   ],
   "source": [
    "# eliminamos tildes\n",
    "df['text_prepo'] = df['text_prepo'].progress_apply(lambda text: remove_accents(text))"
   ]
  },
  {
   "cell_type": "code",
   "execution_count": 49,
   "metadata": {},
   "outputs": [
    {
     "name": "stderr",
     "output_type": "stream",
     "text": [
      "100%|██████████| 5938/5938 [00:00<00:00, 258187.27it/s]\n"
     ]
    }
   ],
   "source": [
    "# eliminamos stopwords\n",
    "stopwords = create_stopwords()\n",
    "df['text_prepo'] = df['text_prepo'].progress_apply(lambda text: remove_stopwords(text, stopwords))"
   ]
  },
  {
   "cell_type": "code",
   "execution_count": 51,
   "metadata": {},
   "outputs": [
    {
     "name": "stderr",
     "output_type": "stream",
     "text": [
      "100%|██████████| 5938/5938 [00:00<00:00, 592768.88it/s]\n"
     ]
    }
   ],
   "source": [
    "df['text_prepo'] = df['text_prepo'].progress_apply(lambda text: remove_dots(text))"
   ]
  },
  {
   "cell_type": "code",
   "execution_count": 52,
   "metadata": {},
   "outputs": [
    {
     "data": {
      "text/html": [
       "<div>\n",
       "<style scoped>\n",
       "    .dataframe tbody tr th:only-of-type {\n",
       "        vertical-align: middle;\n",
       "    }\n",
       "\n",
       "    .dataframe tbody tr th {\n",
       "        vertical-align: top;\n",
       "    }\n",
       "\n",
       "    .dataframe thead th {\n",
       "        text-align: right;\n",
       "    }\n",
       "</style>\n",
       "<table border=\"1\" class=\"dataframe\">\n",
       "  <thead>\n",
       "    <tr style=\"text-align: right;\">\n",
       "      <th></th>\n",
       "      <th>id</th>\n",
       "      <th>text</th>\n",
       "      <th>class</th>\n",
       "      <th>text_prepo</th>\n",
       "    </tr>\n",
       "  </thead>\n",
       "  <tbody>\n",
       "    <tr>\n",
       "      <th>0</th>\n",
       "      <td>828025263321657348</td>\n",
       "      <td>Ismael es egocentrico porque se vuelve loca si...</td>\n",
       "      <td>0</td>\n",
       "      <td>ismael egocentrico vuelve loca pelo bonito😂😂😂😂...</td>\n",
       "    </tr>\n",
       "    <tr>\n",
       "      <th>1</th>\n",
       "      <td>828025128797741057</td>\n",
       "      <td>..ya tardaba en salir quien pronunciase nombre...</td>\n",
       "      <td>0</td>\n",
       "      <td>tardaba salir pronunciase nombre catalan silab...</td>\n",
       "    </tr>\n",
       "    <tr>\n",
       "      <th>2</th>\n",
       "      <td>828025087815274496</td>\n",
       "      <td>(Esto no es un discurso político y razonado, o...</td>\n",
       "      <td>0</td>\n",
       "      <td>discurso politico razonado obviamente llamada ...</td>\n",
       "    </tr>\n",
       "    <tr>\n",
       "      <th>3</th>\n",
       "      <td>828025006626058241</td>\n",
       "      <td>Muy despreciados,siiii,pero todos vestidos de ...</td>\n",
       "      <td>1</td>\n",
       "      <td>despreciados siiii vestidos alta costura españ...</td>\n",
       "    </tr>\n",
       "    <tr>\n",
       "      <th>4</th>\n",
       "      <td>828024709761658880</td>\n",
       "      <td>marica explicame porque a veces no te entiendo...</td>\n",
       "      <td>1</td>\n",
       "      <td>marica explicame entiendo — venir ensuciar cc ...</td>\n",
       "    </tr>\n",
       "  </tbody>\n",
       "</table>\n",
       "</div>"
      ],
      "text/plain": [
       "                   id                                               text  \\\n",
       "0  828025263321657348  Ismael es egocentrico porque se vuelve loca si...   \n",
       "1  828025128797741057  ..ya tardaba en salir quien pronunciase nombre...   \n",
       "2  828025087815274496  (Esto no es un discurso político y razonado, o...   \n",
       "3  828025006626058241  Muy despreciados,siiii,pero todos vestidos de ...   \n",
       "4  828024709761658880  marica explicame porque a veces no te entiendo...   \n",
       "\n",
       "   class                                         text_prepo  \n",
       "0      0  ismael egocentrico vuelve loca pelo bonito😂😂😂😂...  \n",
       "1      0  tardaba salir pronunciase nombre catalan silab...  \n",
       "2      0  discurso politico razonado obviamente llamada ...  \n",
       "3      1  despreciados siiii vestidos alta costura españ...  \n",
       "4      1  marica explicame entiendo — venir ensuciar cc ...  "
      ]
     },
     "execution_count": 52,
     "metadata": {},
     "output_type": "execute_result"
    }
   ],
   "source": [
    "df.head()"
   ]
  }
 ],
 "metadata": {
  "kernelspec": {
   "display_name": "Python 3.8.8 (conda)",
   "language": "python",
   "name": "python3"
  },
  "language_info": {
   "codemirror_mode": {
    "name": "ipython",
    "version": 3
   },
   "file_extension": ".py",
   "mimetype": "text/x-python",
   "name": "python",
   "nbconvert_exporter": "python",
   "pygments_lexer": "ipython3",
   "version": "3.8.8"
  },
  "orig_nbformat": 4,
  "vscode": {
   "interpreter": {
    "hash": "d14bf8100b56b5b8fbefaec974c80e39ff93190759fbcedb512eb7c0cd92f829"
   }
  }
 },
 "nbformat": 4,
 "nbformat_minor": 2
}
