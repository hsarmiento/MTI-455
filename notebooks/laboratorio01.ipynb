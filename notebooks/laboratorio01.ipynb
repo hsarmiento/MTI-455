{
 "cells": [
  {
   "cell_type": "markdown",
   "metadata": {},
   "source": [
    "# Búsqueda y Descubrimiento de Información \n",
    "## Laboratorio 1 \n",
    "\n",
    "### INGRESE ACÁ NOMBRE DE INTEGRANTES\n",
    "\n",
    "## Reglas\n",
    "\n",
    "1. Trabajar en parejas. Si desea hacerlo individualmente, es válido también.\n",
    "2. Para cada pregunta práctica, debe adjuntar el código que genera aquella respuesta. Para ello, debe crear un nuevo bloque de Python y ejecutar la sentencia para mostrar dicho resultado. Si la pregunta necesita comentarios o explicación, debe crear un bloque de texto plano para aquello dentro del mismo notebook.\n",
    "3. Debe subir a moodle un .html generado desde jupyter. Para, debe colocar la opción de descargar/exportar a un .html.\n",
    "4. El plazo de entrega es hasta el **sábado 30 de Julio, 23:59 hrs**.\n",
    "\n",
    "<hr/>\n",
    "\n",
    "Para este laborratorio, utilizaremos una muestra aleatoria de mensajes publicados en Twitter durante las elecciones presidenciales del 2021 ocurridas en Chile. El dataset tiene por nombre ``tweets_elections_sample.csv`` y es un archivo separado por el caracter ``;``. "
   ]
  },
  {
   "cell_type": "markdown",
   "metadata": {},
   "source": [
    "### Parte práctica"
   ]
  },
  {
   "cell_type": "markdown",
   "metadata": {},
   "source": [
    "1. Cargue el dataset en un dataframe y muestre las 5 primeras filas."
   ]
  },
  {
   "cell_type": "markdown",
   "metadata": {},
   "source": [
    "2. Realice un pre-procesamiento de texto que incluya las acciones básicas para dejar el texto lo más limpio posible. Además convierta emojis y emoticones a texto según corresponda. Finalmente, muestra las 3 primeras filas del dataset para observar el pre-procesado efectuado. \n",
    "**Hint**: utilice las funciones ``convert_emoticons(text)`` y ``convert_emojis(text)`` presentes en el archivo ``preprocessing_tweets.py``. Estas funciones transforman la \"imagen\" de un emoji en un texto que representa cada una de estas expresiones."
   ]
  },
  {
   "cell_type": "markdown",
   "metadata": {},
   "source": [
    "3. Vectorice el texto pre-procesado usando unigramas como tokens y la frecuencia de cada uno de estos como pesos."
   ]
  },
  {
   "cell_type": "markdown",
   "metadata": {},
   "source": [
    "4. Transforme el vector obtenido en la pregunta anterior, para transformarlo a una matriz de término-documento"
   ]
  },
  {
   "cell_type": "markdown",
   "metadata": {},
   "source": [
    "5. Grafique los 20 términos con mayor frecuencia ordenados por este valor. Comente 2 observaciones que se desprenden del gráfico"
   ]
  },
  {
   "cell_type": "markdown",
   "metadata": {},
   "source": [
    "6. Vectorice nuevamente los documentos pero esta vez utilizando bigramas en lugar de unigramas. Observe la documentación de la función ``CountVectorizer()`` (https://scikit-learn.org/stable/modules/generated/sklearn.feature_extraction.text.CountVectorizer.html) para realizar el cambio. Luego repita lo efectuado previamente con unigrama, es decir, obtenga la matriz de término-documento, grafique los top-20 bigramas e indique 2 observaciones de los resultados."
   ]
  },
  {
   "cell_type": "markdown",
   "metadata": {},
   "source": [
    "7. Aplique la traspuesta de la matriz término-documento (para obtener la documento-término), estime la similitud de coseno entre documentos y luego realice un heatmap de la matriz de similitud obtenida. Se recomienda ordenar la matriz de similitud para luego graficar. Comente al respecto en base a la matriz graficada."
   ]
  },
  {
   "cell_type": "markdown",
   "metadata": {},
   "source": [
    "### Parte conceptual"
   ]
  },
  {
   "cell_type": "markdown",
   "metadata": {},
   "source": [
    "1. ¿Qué problema podría existir al realizar la tokenización y vectorización de documentos sin pre-procesar el texto?"
   ]
  },
  {
   "cell_type": "markdown",
   "metadata": {},
   "source": [
    "2. ¿Qué problema podría existir si consideramos la frecuencia de término en cada documento al momento de crear una matriz de término-documento (o de documento-término)?"
   ]
  },
  {
   "cell_type": "markdown",
   "metadata": {},
   "source": [
    "3. ¿Qué ventaja tiene un modelo de distributed vectors (o word embeddings) versus uno de word vectors?"
   ]
  }
 ],
 "metadata": {
  "kernelspec": {
   "display_name": "Python 3.8.8 (conda)",
   "language": "python",
   "name": "python3"
  },
  "language_info": {
   "codemirror_mode": {
    "name": "ipython",
    "version": 3
   },
   "file_extension": ".py",
   "mimetype": "text/x-python",
   "name": "python",
   "nbconvert_exporter": "python",
   "pygments_lexer": "ipython3",
   "version": "3.8.8"
  },
  "orig_nbformat": 4,
  "vscode": {
   "interpreter": {
    "hash": "d14bf8100b56b5b8fbefaec974c80e39ff93190759fbcedb512eb7c0cd92f829"
   }
  }
 },
 "nbformat": 4,
 "nbformat_minor": 2
}
