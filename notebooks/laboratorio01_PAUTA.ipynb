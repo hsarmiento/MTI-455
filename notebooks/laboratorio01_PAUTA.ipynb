{
 "cells": [
  {
   "cell_type": "markdown",
   "metadata": {},
   "source": [
    "# Búsqueda y Descubrimiento de Información \n",
    "## Laboratorio 1 \n",
    "\n",
    "\n",
    "\n",
    "\n",
    "Para este laborratorio, utilizaremos una muestra aleatoria de mensajes publicados en Twitter durante las elecciones presidenciales del 2021 ocurridas en Chile. El dataset tiene por nombre ``tweets_elections_sample.csv`` y es un archivo separado por el caracter ``;``. Por lo tanto, cargue el dataset para ser interpretado como dataframe en nuestro entorno de trabajo.\n"
   ]
  },
  {
   "cell_type": "markdown",
   "metadata": {},
   "source": [
    "1. Cargue el dataset en un dataframe y muestre las 5 primeras filas."
   ]
  },
  {
   "cell_type": "code",
   "execution_count": null,
   "metadata": {},
   "outputs": [
    {
     "name": "stderr",
     "output_type": "stream",
     "text": [
      "c:\\Users\\USUARIO\\AppData\\Local\\Programs\\Python\\Python39\\lib\\site-packages\\tqdm\\auto.py:22: TqdmWarning: IProgress not found. Please update jupyter and ipywidgets. See https://ipywidgets.readthedocs.io/en/stable/user_install.html\n",
      "  from .autonotebook import tqdm as notebook_tqdm\n"
     ]
    }
   ],
   "source": [
    "import numpy as np\n",
    "import pandas as pd\n",
    "import re\n",
    "import nltk\n",
    "import spacy\n",
    "import string\n",
    "from tqdm.auto import tqdm\n",
    "import csv\n",
    "import os\n",
    "import emoji\n",
    "import matplotlib.pyplot as plt"
   ]
  },
  {
   "cell_type": "code",
   "execution_count": 13,
   "metadata": {},
   "outputs": [],
   "source": [
    "cwd = os.getcwd()\n",
    "\n",
    "df = pd.read_csv(os.path.join(cwd, \"tweets_elections_sample.csv\"),\n",
    "                         sep = \";\", \n",
    "                         encoding = \"utf8\",\n",
    "                         quotechar = \"\\\"\") "
   ]
  },
  {
   "cell_type": "code",
   "execution_count": 14,
   "metadata": {},
   "outputs": [
    {
     "data": {
      "text/html": [
       "<div>\n",
       "<style scoped>\n",
       "    .dataframe tbody tr th:only-of-type {\n",
       "        vertical-align: middle;\n",
       "    }\n",
       "\n",
       "    .dataframe tbody tr th {\n",
       "        vertical-align: top;\n",
       "    }\n",
       "\n",
       "    .dataframe thead th {\n",
       "        text-align: right;\n",
       "    }\n",
       "</style>\n",
       "<table border=\"1\" class=\"dataframe\">\n",
       "  <thead>\n",
       "    <tr style=\"text-align: right;\">\n",
       "      <th></th>\n",
       "      <th>tweet</th>\n",
       "    </tr>\n",
       "  </thead>\n",
       "  <tbody>\n",
       "    <tr>\n",
       "      <th>0</th>\n",
       "      <td>@ProvosteYasna Otra vez hablando cabezas de pe...</td>\n",
       "    </tr>\n",
       "    <tr>\n",
       "      <th>1</th>\n",
       "      <td>..el \"laucha de supermercado\" buscando cualqui...</td>\n",
       "    </tr>\n",
       "    <tr>\n",
       "      <th>2</th>\n",
       "      <td>Tremendo lienzo! Muchas gracias a todas las co...</td>\n",
       "    </tr>\n",
       "    <tr>\n",
       "      <th>3</th>\n",
       "      <td>@RalGuzm17108483 @EValenz11 @joseantoniokast L...</td>\n",
       "    </tr>\n",
       "    <tr>\n",
       "      <th>4</th>\n",
       "      <td>@T_Real_Patriots @joseantoniokast #AtreveteCon...</td>\n",
       "    </tr>\n",
       "  </tbody>\n",
       "</table>\n",
       "</div>"
      ],
      "text/plain": [
       "                                               tweet\n",
       "0  @ProvosteYasna Otra vez hablando cabezas de pe...\n",
       "1  ..el \"laucha de supermercado\" buscando cualqui...\n",
       "2  Tremendo lienzo! Muchas gracias a todas las co...\n",
       "3  @RalGuzm17108483 @EValenz11 @joseantoniokast L...\n",
       "4  @T_Real_Patriots @joseantoniokast #AtreveteCon..."
      ]
     },
     "execution_count": 14,
     "metadata": {},
     "output_type": "execute_result"
    }
   ],
   "source": [
    "df.head(5)"
   ]
  },
  {
   "cell_type": "markdown",
   "metadata": {},
   "source": [
    "2. Realice un pre-procesamiento de texto que incluya las acciones básicas para dejar el texto lo más limpio posible. Incluya además la eliminación de emojis y emoticones presentes en el texto. Finalmente, muestra las 3 primeras filas del dataset para observar el pre-procesado efectuado. \n",
    "**Hint**: utilice las funciones ``convert_emoticons(text)`` y ``convert_emojis(text)`` presentes en el archivo ``preprocessing_tweets.py``. Estas funciones transforman la \"imagen\" de un emoji en un texto que representa cada una de estas expresiones."
   ]
  },
  {
   "cell_type": "code",
   "execution_count": 21,
   "metadata": {},
   "outputs": [],
   "source": [
    "# todo a minúscula.\n",
    "from preprocessing_tweets import *\n",
    "df['text_prepro'] = df['tweet'].str.lower()"
   ]
  },
  {
   "cell_type": "code",
   "execution_count": 22,
   "metadata": {},
   "outputs": [
    {
     "name": "stderr",
     "output_type": "stream",
     "text": [
      "100%|██████████| 5000/5000 [00:00<00:00, 238098.98it/s]\n"
     ]
    }
   ],
   "source": [
    "# eliminamos urls\n",
    "tqdm.pandas()\n",
    "df['text_prepro'] = df['text_prepro'].progress_apply(lambda text: remove_mentions_urls(text))"
   ]
  },
  {
   "cell_type": "code",
   "execution_count": 26,
   "metadata": {},
   "outputs": [
    {
     "data": {
      "text/html": [
       "<div>\n",
       "<style scoped>\n",
       "    .dataframe tbody tr th:only-of-type {\n",
       "        vertical-align: middle;\n",
       "    }\n",
       "\n",
       "    .dataframe tbody tr th {\n",
       "        vertical-align: top;\n",
       "    }\n",
       "\n",
       "    .dataframe thead th {\n",
       "        text-align: right;\n",
       "    }\n",
       "</style>\n",
       "<table border=\"1\" class=\"dataframe\">\n",
       "  <thead>\n",
       "    <tr style=\"text-align: right;\">\n",
       "      <th></th>\n",
       "      <th>tweet</th>\n",
       "      <th>text_prepro</th>\n",
       "    </tr>\n",
       "  </thead>\n",
       "  <tbody>\n",
       "    <tr>\n",
       "      <th>0</th>\n",
       "      <td>@ProvosteYasna Otra vez hablando cabezas de pe...</td>\n",
       "      <td>otra vez hablando cabezas de pescado que no v...</td>\n",
       "    </tr>\n",
       "    <tr>\n",
       "      <th>1</th>\n",
       "      <td>..el \"laucha de supermercado\" buscando cualqui...</td>\n",
       "      <td>..el \"laucha de supermercado\" buscando cualqui...</td>\n",
       "    </tr>\n",
       "    <tr>\n",
       "      <th>2</th>\n",
       "      <td>Tremendo lienzo! Muchas gracias a todas las co...</td>\n",
       "      <td>tremendo lienzo! muchas gracias a todas las co...</td>\n",
       "    </tr>\n",
       "    <tr>\n",
       "      <th>3</th>\n",
       "      <td>@RalGuzm17108483 @EValenz11 @joseantoniokast L...</td>\n",
       "      <td>las ffaa chilenas no son como las venezolan...</td>\n",
       "    </tr>\n",
       "    <tr>\n",
       "      <th>4</th>\n",
       "      <td>@T_Real_Patriots @joseantoniokast #AtreveteCon...</td>\n",
       "      <td>#atreveteconkast #atrevidos</td>\n",
       "    </tr>\n",
       "  </tbody>\n",
       "</table>\n",
       "</div>"
      ],
      "text/plain": [
       "                                               tweet  \\\n",
       "0  @ProvosteYasna Otra vez hablando cabezas de pe...   \n",
       "1  ..el \"laucha de supermercado\" buscando cualqui...   \n",
       "2  Tremendo lienzo! Muchas gracias a todas las co...   \n",
       "3  @RalGuzm17108483 @EValenz11 @joseantoniokast L...   \n",
       "4  @T_Real_Patriots @joseantoniokast #AtreveteCon...   \n",
       "\n",
       "                                         text_prepro  \n",
       "0   otra vez hablando cabezas de pescado que no v...  \n",
       "1  ..el \"laucha de supermercado\" buscando cualqui...  \n",
       "2  tremendo lienzo! muchas gracias a todas las co...  \n",
       "3     las ffaa chilenas no son como las venezolan...  \n",
       "4                        #atreveteconkast #atrevidos  "
      ]
     },
     "execution_count": 26,
     "metadata": {},
     "output_type": "execute_result"
    }
   ],
   "source": [
    "df.head()"
   ]
  },
  {
   "cell_type": "code",
   "execution_count": 27,
   "metadata": {},
   "outputs": [
    {
     "name": "stderr",
     "output_type": "stream",
     "text": [
      "100%|██████████| 5000/5000 [00:00<00:00, 46295.67it/s]\n"
     ]
    }
   ],
   "source": [
    "df['text_prepro'] = df['text_prepro'].progress_apply(lambda text: convert_emojis(text))"
   ]
  },
  {
   "cell_type": "code",
   "execution_count": 28,
   "metadata": {},
   "outputs": [
    {
     "name": "stderr",
     "output_type": "stream",
     "text": [
      "100%|██████████| 5000/5000 [00:01<00:00, 4335.64it/s]\n"
     ]
    }
   ],
   "source": [
    "df['text_prepro'] = df['text_prepro'].progress_apply(lambda text: convert_emoticons(text))"
   ]
  },
  {
   "cell_type": "code",
   "execution_count": 29,
   "metadata": {},
   "outputs": [
    {
     "name": "stderr",
     "output_type": "stream",
     "text": [
      "100%|██████████| 5000/5000 [00:00<00:00, 312452.81it/s]\n"
     ]
    }
   ],
   "source": [
    "# eliminamos hashtags\n",
    "df['text_prepro'] = df['text_prepro'].progress_apply(lambda text: remove_hts(text))"
   ]
  },
  {
   "cell_type": "code",
   "execution_count": 30,
   "metadata": {},
   "outputs": [
    {
     "name": "stderr",
     "output_type": "stream",
     "text": [
      "100%|██████████| 5000/5000 [00:00<00:00, 105593.59it/s]\n"
     ]
    }
   ],
   "source": [
    "# eliminamos puntuacion\n",
    "df['text_prepro'] = df['text_prepro'].progress_apply(lambda text: remove_punctuation(text))"
   ]
  },
  {
   "cell_type": "code",
   "execution_count": 31,
   "metadata": {},
   "outputs": [
    {
     "name": "stderr",
     "output_type": "stream",
     "text": [
      "100%|██████████| 5000/5000 [00:00<00:00, 277746.40it/s]\n"
     ]
    }
   ],
   "source": [
    "# eliminamos numeros\n",
    "df['text_prepro'] = df['text_prepro'].progress_apply(lambda text: remove_numbers(text))"
   ]
  },
  {
   "cell_type": "code",
   "execution_count": 32,
   "metadata": {},
   "outputs": [
    {
     "name": "stderr",
     "output_type": "stream",
     "text": [
      "100%|██████████| 5000/5000 [00:00<00:00, 942709.70it/s]\n"
     ]
    }
   ],
   "source": [
    "# eliminamos tildes\n",
    "df['text_prepro'] = df['text_prepro'].progress_apply(lambda text: remove_accents(text))"
   ]
  },
  {
   "cell_type": "code",
   "execution_count": 33,
   "metadata": {},
   "outputs": [
    {
     "name": "stderr",
     "output_type": "stream",
     "text": [
      "100%|██████████| 5000/5000 [00:00<00:00, 312517.99it/s]\n"
     ]
    }
   ],
   "source": [
    "# eliminamos stopwords\n",
    "stopwords = create_stopwords()\n",
    "df['text_prepro'] = df['text_prepro'].progress_apply(lambda text: remove_stopwords(text, stopwords))"
   ]
  },
  {
   "cell_type": "code",
   "execution_count": 34,
   "metadata": {},
   "outputs": [
    {
     "name": "stderr",
     "output_type": "stream",
     "text": [
      "100%|██████████| 5000/5000 [00:00<00:00, 714288.83it/s]\n"
     ]
    }
   ],
   "source": [
    "df['text_prepro'] = df['text_prepro'].progress_apply(lambda text: remove_dots(text))"
   ]
  },
  {
   "cell_type": "code",
   "execution_count": 35,
   "metadata": {},
   "outputs": [
    {
     "data": {
      "text/html": [
       "<div>\n",
       "<style scoped>\n",
       "    .dataframe tbody tr th:only-of-type {\n",
       "        vertical-align: middle;\n",
       "    }\n",
       "\n",
       "    .dataframe tbody tr th {\n",
       "        vertical-align: top;\n",
       "    }\n",
       "\n",
       "    .dataframe thead th {\n",
       "        text-align: right;\n",
       "    }\n",
       "</style>\n",
       "<table border=\"1\" class=\"dataframe\">\n",
       "  <thead>\n",
       "    <tr style=\"text-align: right;\">\n",
       "      <th></th>\n",
       "      <th>tweet</th>\n",
       "      <th>text_prepro</th>\n",
       "    </tr>\n",
       "  </thead>\n",
       "  <tbody>\n",
       "    <tr>\n",
       "      <th>0</th>\n",
       "      <td>@ProvosteYasna Otra vez hablando cabezas de pe...</td>\n",
       "      <td>hablando cabezas pescado vienen caso preocupat...</td>\n",
       "    </tr>\n",
       "    <tr>\n",
       "      <th>1</th>\n",
       "      <td>..el \"laucha de supermercado\" buscando cualqui...</td>\n",
       "      <td>laucha supermercado buscando recoveco arrancar...</td>\n",
       "    </tr>\n",
       "    <tr>\n",
       "      <th>2</th>\n",
       "      <td>Tremendo lienzo! Muchas gracias a todas las co...</td>\n",
       "      <td>tremendo lienzo gracias comunidades exterior n...</td>\n",
       "    </tr>\n",
       "  </tbody>\n",
       "</table>\n",
       "</div>"
      ],
      "text/plain": [
       "                                               tweet  \\\n",
       "0  @ProvosteYasna Otra vez hablando cabezas de pe...   \n",
       "1  ..el \"laucha de supermercado\" buscando cualqui...   \n",
       "2  Tremendo lienzo! Muchas gracias a todas las co...   \n",
       "\n",
       "                                         text_prepro  \n",
       "0  hablando cabezas pescado vienen caso preocupat...  \n",
       "1  laucha supermercado buscando recoveco arrancar...  \n",
       "2  tremendo lienzo gracias comunidades exterior n...  "
      ]
     },
     "execution_count": 35,
     "metadata": {},
     "output_type": "execute_result"
    }
   ],
   "source": [
    "df.head(3)"
   ]
  },
  {
   "cell_type": "markdown",
   "metadata": {},
   "source": [
    "3. Vectorice el texto pre-procesado usando unigramas como tokens y la frecuencia de cada uno de estos como pesos."
   ]
  },
  {
   "cell_type": "code",
   "execution_count": 36,
   "metadata": {},
   "outputs": [],
   "source": [
    "from sklearn.feature_extraction.text import CountVectorizer\n",
    "vect = CountVectorizer()  \n",
    "vects = vect.fit_transform(df.text_prepro)"
   ]
  },
  {
   "cell_type": "markdown",
   "metadata": {},
   "source": [
    "4. Transforme el vector obtenido en la pregunta anterior, para transformarlo a una matriz de término-documento"
   ]
  },
  {
   "cell_type": "code",
   "execution_count": 37,
   "metadata": {},
   "outputs": [
    {
     "name": "stderr",
     "output_type": "stream",
     "text": [
      "c:\\Users\\USUARIO\\AppData\\Local\\Programs\\Python\\Python39\\lib\\site-packages\\sklearn\\utils\\deprecation.py:87: FutureWarning: Function get_feature_names is deprecated; get_feature_names is deprecated in 1.0 and will be removed in 1.2. Please use get_feature_names_out instead.\n",
      "  warnings.warn(msg, category=FutureWarning)\n"
     ]
    }
   ],
   "source": [
    "# transformamos nuestra matriz sparse a un dataframe\n",
    "td = pd.DataFrame(vects.todense())\n",
    "# cada columna es renombrada con el termino del vocabulario\n",
    "td.columns = vect.get_feature_names()\n",
    "# transponemos la matriz para generar una de termino-documento\n",
    "term_document_matrix = td.T\n",
    "# cada columna, que ahora es un documento, se le da un nombre generico\n",
    "term_document_matrix.columns = ['Doc'+str(i) for i in range(1, td.shape[0]+1)]"
   ]
  },
  {
   "cell_type": "markdown",
   "metadata": {},
   "source": [
    "5. Grafique los 20 términos con mayor frecuencia ordenados por este valor. Comente 2 observaciones que se desprenden del gráfico"
   ]
  },
  {
   "cell_type": "code",
   "execution_count": 43,
   "metadata": {},
   "outputs": [
    {
     "data": {
      "text/plain": [
       "<AxesSubplot:>"
      ]
     },
     "execution_count": 43,
     "metadata": {},
     "output_type": "execute_result"
    },
    {
     "data": {
      "image/png": "[encoded data removed]",
      "text/plain": [
       "<Figure size 432x288 with 1 Axes>"
      ]
     },
     "metadata": {
      "needs_background": "light"
     },
     "output_type": "display_data"
    }
   ],
   "source": [
    "term_document_matrix['total_count'] = term_document_matrix.sum(axis=1)\n",
    "\n",
    "# Top 25 words \n",
    "term_document_matrix = term_document_matrix.sort_values(by ='total_count',ascending=False)\n",
    "\n",
    "# Print the first 10 rows \n",
    "\n",
    "term_document_matrix['total_count'].head(20).plot.barh()"
   ]
  },
  {
   "cell_type": "markdown",
   "metadata": {},
   "source": [
    "4. Vectorice nuevamente los documentos pero esta vez utilizando bigramas en lugar de unigramas. Observe la documentación de la función ``CountVectorizer()`` (https://scikit-learn.org/stable/modules/generated/sklearn.feature_extraction.text.CountVectorizer.html) para realizar el cambio. Luego repita lo efectuado previamente con unigrama, es decir, obtenga la matriz de término-documento, grafique los top-20 bigramas e indique 2 observaciones de los resultados."
   ]
  },
  {
   "cell_type": "code",
   "execution_count": 39,
   "metadata": {},
   "outputs": [],
   "source": [
    "vect2 = CountVectorizer(analyzer='word', ngram_range=(2, 2))  \n",
    "vects2 = vect2.fit_transform(df.text_prepro)"
   ]
  },
  {
   "cell_type": "code",
   "execution_count": 41,
   "metadata": {},
   "outputs": [
    {
     "name": "stderr",
     "output_type": "stream",
     "text": [
      "c:\\Users\\USUARIO\\AppData\\Local\\Programs\\Python\\Python39\\lib\\site-packages\\sklearn\\utils\\deprecation.py:87: FutureWarning: Function get_feature_names is deprecated; get_feature_names is deprecated in 1.0 and will be removed in 1.2. Please use get_feature_names_out instead.\n",
      "  warnings.warn(msg, category=FutureWarning)\n"
     ]
    }
   ],
   "source": [
    "# transformamos nuestra matriz sparse a un dataframe\n",
    "td2 = pd.DataFrame(vects2.todense())\n",
    "# cada columna es renombrada con el termino del vocabulario\n",
    "td2.columns = vect2.get_feature_names()\n",
    "# transponemos la matriz para generar una de termino-documento\n",
    "term_document_matrix2 = td2.T\n",
    "# cada columna, que ahora es un documento, se le da un nombre generico\n",
    "term_document_matrix2.columns = ['Doc'+str(i) for i in range(1, td2.shape[0]+1)]"
   ]
  },
  {
   "cell_type": "code",
   "execution_count": 44,
   "metadata": {},
   "outputs": [
    {
     "data": {
      "text/plain": [
       "<AxesSubplot:>"
      ]
     },
     "execution_count": 44,
     "metadata": {},
     "output_type": "execute_result"
    },
    {
     "data": {
      "image/png": "[encoded data removed]",
      "text/plain": [
       "<Figure size 432x288 with 1 Axes>"
      ]
     },
     "metadata": {
      "needs_background": "light"
     },
     "output_type": "display_data"
    }
   ],
   "source": [
    "term_document_matrix2['total_count'] = term_document_matrix2.sum(axis=1)\n",
    "\n",
    "# Top 25 words \n",
    "term_document_matrix2 = term_document_matrix2.sort_values(by ='total_count',ascending=False)\n",
    "\n",
    "# Print the first 10 rows \n",
    "\n",
    "term_document_matrix2['total_count'].head(20).plot.barh()"
   ]
  },
  {
   "cell_type": "markdown",
   "metadata": {},
   "source": [
    "5. Aplique la traspuesta de la matriz término-documento (para obtener la documento-término), estime la similitud de coseno entre documentos y luego realice un heatmap de la matriz de similitud obtenida. Se recomienda ordenar la matriz de similitud para luego graficar. Comente al respecto en base a la matriz graficada."
   ]
  },
  {
   "cell_type": "code",
   "execution_count": 45,
   "metadata": {},
   "outputs": [],
   "source": [
    "from sklearn.metrics.pairwise import cosine_similarity"
   ]
  },
  {
   "cell_type": "code",
   "execution_count": 47,
   "metadata": {},
   "outputs": [],
   "source": [
    "cosine_similarities = cosine_similarity(term_document_matrix2.T)"
   ]
  },
  {
   "cell_type": "code",
   "execution_count": 49,
   "metadata": {},
   "outputs": [],
   "source": [
    "def argsort_sim_mat(sm):\n",
    "    idx = [np.argmax(np.sum(sm, axis=1))]  # a\n",
    "    for i in range(1, len(sm)):\n",
    "        sm_i = sm[idx[-1]].copy()\n",
    "        sm_i[idx] = -1\n",
    "        idx.append(np.argmax(sm_i))  # b\n",
    "    return np.array(idx)"
   ]
  },
  {
   "cell_type": "code",
   "execution_count": 50,
   "metadata": {},
   "outputs": [],
   "source": [
    "idx = argsort_sim_mat(cosine_similarities)\n",
    "sim_mat2 = cosine_similarities[idx, :][:, idx]  # apply reordering for rows and columns"
   ]
  },
  {
   "cell_type": "code",
   "execution_count": 51,
   "metadata": {},
   "outputs": [
    {
     "data": {
      "image/png": "[encoded data removed]",
      "text/plain": [
       "<Figure size 1440x720 with 2 Axes>"
      ]
     },
     "metadata": {
      "needs_background": "light"
     },
     "output_type": "display_data"
    }
   ],
   "source": [
    "plt.figure(figsize = (20,10))\n",
    "plt.imshow(sim_mat2, interpolation='none')\n",
    "plt.colorbar()\n",
    "plt.show()"
   ]
  },
  {
   "cell_type": "code",
   "execution_count": null,
   "metadata": {},
   "outputs": [],
   "source": []
  }
 ],
 "metadata": {
  "kernelspec": {
   "display_name": "Python 3.9.13 64-bit",
   "language": "python",
   "name": "python3"
  },
  "language_info": {
   "codemirror_mode": {
    "name": "ipython",
    "version": 3
   },
   "file_extension": ".py",
   "mimetype": "text/x-python",
   "name": "python",
   "nbconvert_exporter": "python",
   "pygments_lexer": "ipython3",
   "version": "3.9.13"
  },
  "orig_nbformat": 4,
  "vscode": {
   "interpreter": {
    "hash": "4ff442374353e7cd8d0b317b986b0b774c361b92b00d7ea43e4b1384f67d1c1b"
   }
  }
 },
 "nbformat": 4,
 "nbformat_minor": 2
}
